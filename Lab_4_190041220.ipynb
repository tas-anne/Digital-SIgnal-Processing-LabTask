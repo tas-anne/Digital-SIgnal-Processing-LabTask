{
  "nbformat": 4,
  "nbformat_minor": 0,
  "metadata": {
    "colab": {
      "provenance": [],
      "authorship_tag": "ABX9TyPqn2oNwI56+OWrU9T3VT/+",
      "include_colab_link": true
    },
    "kernelspec": {
      "name": "python3",
      "display_name": "Python 3"
    },
    "language_info": {
      "name": "python"
    }
  },
  "cells": [
    {
      "cell_type": "markdown",
      "metadata": {
        "id": "view-in-github",
        "colab_type": "text"
      },
      "source": [
        "<a href=\"https://colab.research.google.com/github/tas-anne/Digital-SIgnal-Processing-LabTask/blob/main/Lab_4_190041220.ipynb\" target=\"_parent\"><img src=\"https://colab.research.google.com/assets/colab-badge.svg\" alt=\"Open In Colab\"/></a>"
      ]
    },
    {
      "cell_type": "markdown",
      "source": [
        "# Digital Signal Processing | Lab 4\n",
        "###ID: 190041220\n",
        "###Name: Tasfia Tasneem Annesha\n"
      ],
      "metadata": {
        "id": "6S_9OAvx0mfT"
      }
    },
    {
      "cell_type": "markdown",
      "source": [
        "importing libraries:"
      ],
      "metadata": {
        "id": "A5we1TNKAiLQ"
      }
    },
    {
      "cell_type": "code",
      "execution_count": null,
      "metadata": {
        "id": "uzU0cGb20b8p"
      },
      "outputs": [],
      "source": [
        "import numpy as np\n",
        "import matplotlib.pyplot as plt"
      ]
    },
    {
      "cell_type": "markdown",
      "source": [
        "##Task 1"
      ],
      "metadata": {
        "id": "O9vzsz2y1tEp"
      }
    },
    {
      "cell_type": "markdown",
      "source": [
        "Write the two following functions, implementing DFT and Inverse DFT. You should not\n",
        "use any high-level library functions. Implement it from scratch using simple libraries\n",
        "such as numpy, math. The algorithms can be found in Tables 8-1 (Page 154) and 8-2\n",
        "(Page 160). Then, write another function that converts Rectangular representation of a\n",
        "frequency domain signal into Polar using equations described in chapter 8."
      ],
      "metadata": {
        "id": "qCeHgJqq11Kk"
      }
    },
    {
      "cell_type": "markdown",
      "source": [
        "**a.function [ReX,ImX] = myDFT(x)**"
      ],
      "metadata": {
        "id": "qBwBdp3w5aXx"
      }
    },
    {
      "cell_type": "markdown",
      "source": [
        "The input to the function is x and it returns two vectors: ReX\n",
        "and ImX."
      ],
      "metadata": {
        "id": "71hat3k5BSWv"
      }
    },
    {
      "cell_type": "code",
      "source": [
        "import math"
      ],
      "metadata": {
        "id": "QdlpwTaq1yJH"
      },
      "execution_count": null,
      "outputs": []
    },
    {
      "cell_type": "code",
      "source": [
        "def myDFT(x):\n",
        "    n = len(x)\n",
        "    ReX = np.zeros(n//2)\n",
        "    ImX = np.zeros(n//2)\n",
        "    \n",
        "    for k in range(n//2):\n",
        "        for i in range(n-1):\n",
        "            ReX[k] = ReX[k] + x[i] * math.cos(2*math.pi*k*i*n)\n",
        "            ImX[k] = ImX[k] + x[i] * math.sin(2*math.pi*k*i*n)\n",
        "    \n",
        "    return ReX, ImX "
      ],
      "metadata": {
        "id": "obWp7HZd2cuB"
      },
      "execution_count": null,
      "outputs": []
    },
    {
      "cell_type": "code",
      "source": [
        "data2 = np.zeros(32)\n",
        "data2[0] = 32\n",
        "ReX, ImX = myDFT(data2)"
      ],
      "metadata": {
        "id": "ICUjOLTR4gVA"
      },
      "execution_count": null,
      "outputs": []
    },
    {
      "cell_type": "code",
      "source": [
        "print(ReX)\n",
        "print(ImX)"
      ],
      "metadata": {
        "colab": {
          "base_uri": "https://localhost:8080/"
        },
        "id": "bC99bYne4rPY",
        "outputId": "fa3d4ad7-ea4a-49c7-b351-1bf258beed9a"
      },
      "execution_count": null,
      "outputs": [
        {
          "output_type": "stream",
          "name": "stdout",
          "text": [
            "[32. 32. 32. 32. 32. 32. 32. 32. 32. 32. 32. 32. 32. 32. 32. 32.]\n",
            "[0. 0. 0. 0. 0. 0. 0. 0. 0. 0. 0. 0. 0. 0. 0. 0.]\n"
          ]
        }
      ]
    },
    {
      "cell_type": "markdown",
      "source": [
        "Here the result of the newly created DFT function is verified using numpy's built-in fft function. It is seen that the results match."
      ],
      "metadata": {
        "id": "Cdx8VxDpBaxD"
      }
    },
    {
      "cell_type": "code",
      "source": [
        "spec_analysis2 = np.fft.rfft(data2)\n",
        "print(spec_analysis2.real)\n",
        "print(spec_analysis2.imag)"
      ],
      "metadata": {
        "colab": {
          "base_uri": "https://localhost:8080/"
        },
        "id": "ax23SvDd4u30",
        "outputId": "f4d3ff6e-74cf-4535-9183-d171d3e5f5e3"
      },
      "execution_count": null,
      "outputs": [
        {
          "output_type": "stream",
          "name": "stdout",
          "text": [
            "[32. 32. 32. 32. 32. 32. 32. 32. 32. 32. 32. 32. 32. 32. 32. 32. 32.]\n",
            "[ 0.  0. -0.  0.  0.  0.  0.  0. -0.  0.  0.  0.  0.  0.  0.  0.  0.]\n"
          ]
        }
      ]
    },
    {
      "cell_type": "markdown",
      "source": [
        "**b.function x = myIDFT(ReX,ImX)**"
      ],
      "metadata": {
        "id": "YIE2lKfu5d6p"
      }
    },
    {
      "cell_type": "markdown",
      "source": [
        "An inverse DFT implemented using the algorithm refered to in table 8.2 of the book. The function are two vectors: ReX and ImX. It returns\n",
        "the original signal x."
      ],
      "metadata": {
        "id": "UxrwBG7jBgc-"
      }
    },
    {
      "cell_type": "code",
      "source": [
        "def myIDFT(ReX, ImX):\n",
        "    ReX2 = np.array(ReX)\n",
        "    ImX2 = np.array(ImX)\n",
        "    n = len(ReX) * 2\n",
        "    x = np.zeros(n)\n",
        "    \n",
        "    for k in range(n//2):\n",
        "        ReX2[k] = ReX2[k]/(n//2)\n",
        "        ImX2[k] = -ImX2[k]/(n//2)\n",
        "    \n",
        "    ReX2[0] = ReX2[0]/2\n",
        "    ReX2[-1] = ReX2[-1]/2\n",
        "    \n",
        "    for k in range(n//2):\n",
        "        for i in range(n-1):\n",
        "            x[i] = x[i] + ReX2[k] * math.cos(2*math.pi*k*i/n)\n",
        "            x[i] = x[i] + ImX2[k] * math.sin(2*math.pi*k*i/n)\n",
        "    return x"
      ],
      "metadata": {
        "id": "zvdF3D7N5YQV"
      },
      "execution_count": null,
      "outputs": []
    },
    {
      "cell_type": "code",
      "source": [
        "x = myIDFT(ReX, ImX)"
      ],
      "metadata": {
        "id": "XwYUq_Vv6Q9l"
      },
      "execution_count": null,
      "outputs": []
    },
    {
      "cell_type": "code",
      "source": [
        "x"
      ],
      "metadata": {
        "colab": {
          "base_uri": "https://localhost:8080/"
        },
        "id": "hPAyChx86UNS",
        "outputId": "a881e445-de56-447b-edd4-f8b926f4b052"
      },
      "execution_count": null,
      "outputs": [
        {
          "output_type": "execute_result",
          "data": {
            "text/plain": [
              "array([ 3.00000000e+01,  1.98078528e+00, -1.92387953e+00,  1.83146961e+00,\n",
              "       -1.70710678e+00,  1.55557023e+00, -1.38268343e+00,  1.19509032e+00,\n",
              "       -1.00000000e+00,  8.04909678e-01, -6.17316568e-01,  4.44429767e-01,\n",
              "       -2.92893219e-01,  1.68530388e-01, -7.61204675e-02,  1.92147196e-02,\n",
              "        0.00000000e+00,  1.92147196e-02, -7.61204675e-02,  1.68530388e-01,\n",
              "       -2.92893219e-01,  4.44429767e-01, -6.17316568e-01,  8.04909678e-01,\n",
              "       -1.00000000e+00,  1.19509032e+00, -1.38268343e+00,  1.55557023e+00,\n",
              "       -1.70710678e+00,  1.83146961e+00, -1.92387953e+00,  0.00000000e+00])"
            ]
          },
          "metadata": {},
          "execution_count": 10
        }
      ]
    },
    {
      "cell_type": "markdown",
      "source": [
        "Even though some discrepencies are seen due to slight parallax, the results can be said to be convincingly correct."
      ],
      "metadata": {
        "id": "e6wuP9p8Buo9"
      }
    },
    {
      "cell_type": "code",
      "source": [
        "plt.stem(x)\n",
        "plt.show"
      ],
      "metadata": {
        "colab": {
          "base_uri": "https://localhost:8080/",
          "height": 282
        },
        "id": "KkUTgn9yBw2e",
        "outputId": "2622b40f-41a0-4b6f-fc8f-6068d3749eea"
      },
      "execution_count": null,
      "outputs": [
        {
          "output_type": "execute_result",
          "data": {
            "text/plain": [
              "<function matplotlib.pyplot.show(close=None, block=None)>"
            ]
          },
          "metadata": {},
          "execution_count": 11
        },
        {
          "output_type": "display_data",
          "data": {
            "text/plain": [
              "<Figure size 432x288 with 1 Axes>"
            ],
            "image/png": "[encoded data removed]"
          },
          "metadata": {
            "needs_background": "light"
          }
        }
      ]
    },
    {
      "cell_type": "code",
      "source": [],
      "metadata": {
        "id": "_Nf_r6fsQG5t"
      },
      "execution_count": null,
      "outputs": []
    },
    {
      "cell_type": "markdown",
      "source": [
        "**c.function [MagX, PhaseX] = Rect2Polar(ReX, ImX)**"
      ],
      "metadata": {
        "id": "zzUYyThP6qjh"
      }
    },
    {
      "cell_type": "code",
      "source": [
        "def Rect2Polar(ReX, ImX):\n",
        "    MagX = np.sqrt(ReX**2 + ImX**2)\n",
        "    PhaseX = np.arctan(ImX, ReX)\n",
        "    return MagX, PhaseX"
      ],
      "metadata": {
        "id": "ACtFUuE56qR1"
      },
      "execution_count": null,
      "outputs": []
    },
    {
      "cell_type": "code",
      "source": [
        "xx = Rect2Polar(ReX, ImX)"
      ],
      "metadata": {
        "id": "yIPQaHhdMM58"
      },
      "execution_count": null,
      "outputs": []
    },
    {
      "cell_type": "code",
      "source": [
        "print(xx)"
      ],
      "metadata": {
        "colab": {
          "base_uri": "https://localhost:8080/"
        },
        "id": "ZYqMKJiwMP16",
        "outputId": "5a9e9dda-9544-4930-a1af-f5e6ec01210e"
      },
      "execution_count": null,
      "outputs": [
        {
          "output_type": "stream",
          "name": "stdout",
          "text": [
            "(array([32., 32., 32., 32., 32., 32., 32., 32., 32., 32., 32., 32., 32.,\n",
            "       32., 32., 32.]), array([0., 0., 0., 0., 0., 0., 0., 0., 0., 0., 0., 0., 0., 0., 0., 0.]))\n"
          ]
        }
      ]
    },
    {
      "cell_type": "markdown",
      "source": [
        "#Task 2"
      ],
      "metadata": {
        "id": "ExWavkiv-uSk"
      }
    },
    {
      "cell_type": "markdown",
      "source": [
        "a. The given audio file Lab 4.wav is a recording of a tuning fork ringing. Tuning forks\n",
        "have a particular frequency. Plot the signal from the given audio file. Then, do spectral\n",
        "analysis on the signal to find out what was the frequency of the tuning fork. For, spectral\n",
        "analysis use numpy.fft.rfft function. One way to read the audio file is as follows -"
      ],
      "metadata": {
        "id": "G46nVaOV_B31"
      }
    },
    {
      "cell_type": "code",
      "source": [
        "!gdown 1QpbMIJJicE9w2CVTS0N8Nb5eNfeozTXK "
      ],
      "metadata": {
        "colab": {
          "base_uri": "https://localhost:8080/"
        },
        "id": "kntZQrOGNsKD",
        "outputId": "9ef35bc8-3e57-4fab-f8f9-638e1d0723ee"
      },
      "execution_count": null,
      "outputs": [
        {
          "output_type": "stream",
          "name": "stdout",
          "text": [
            "Downloading...\n",
            "From: https://drive.google.com/uc?id=1QpbMIJJicE9w2CVTS0N8Nb5eNfeozTXK\n",
            "To: /content/Lab 4.wav\n",
            "\r  0% 0.00/374k [00:00<?, ?B/s]\r100% 374k/374k [00:00<00:00, 54.5MB/s]\n"
          ]
        }
      ]
    },
    {
      "cell_type": "markdown",
      "source": [
        "![image.png](data:image/png;base64,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)"
      ],
      "metadata": {
        "id": "u5C2vEhK_D24"
      }
    },
    {
      "cell_type": "markdown",
      "source": [
        "Here, the first task was to separate the sample rate from the data in the provided audio file. Scipy was used to complete this. The data was then subjected to a spectral analysis using numpy's fft.rfft() function. This provides us with the ReX and ImX values in x+iy format. We can use the respective prefixes  .real and .imag to identify the distinct real and imaginary components of the signal. These values allow us to calculate MagX. The natural frequency of the tuning fork can be calculated by taking the argmax of the MagX vector, multiplying it by the sample rate, and then dividing the result by the square of this vector's length.\n"
      ],
      "metadata": {
        "id": "BgZo8bjvF96w"
      }
    },
    {
      "cell_type": "code",
      "source": [
        "from scipy.io import wavfile\n",
        "samplerate, data = wavfile.read(\"Lab 4.wav\")"
      ],
      "metadata": {
        "id": "xYLGjUAF_Jxt"
      },
      "execution_count": null,
      "outputs": []
    },
    {
      "cell_type": "code",
      "source": [],
      "metadata": {
        "id": "UWzyf-qHQJV2"
      },
      "execution_count": null,
      "outputs": []
    },
    {
      "cell_type": "code",
      "source": [
        "plt.plot(data)\n",
        "plt.show()"
      ],
      "metadata": {
        "colab": {
          "base_uri": "https://localhost:8080/",
          "height": 265
        },
        "id": "CYYf6Sg8BCck",
        "outputId": "be09d238-aafa-4726-cc95-843e3e1a89ce"
      },
      "execution_count": null,
      "outputs": [
        {
          "output_type": "display_data",
          "data": {
            "text/plain": [
              "<Figure size 432x288 with 1 Axes>"
            ],
            "image/png": "[encoded data removed]"
          },
          "metadata": {
            "needs_background": "light"
          }
        }
      ]
    },
    {
      "cell_type": "code",
      "source": [],
      "metadata": {
        "id": "4hS8oMjyQKXM"
      },
      "execution_count": null,
      "outputs": []
    },
    {
      "cell_type": "code",
      "source": [
        "spec_analysis = np.fft.rfft(data)"
      ],
      "metadata": {
        "id": "Q8yfGCiA-w79"
      },
      "execution_count": null,
      "outputs": []
    },
    {
      "cell_type": "code",
      "source": [
        "spec_analysis"
      ],
      "metadata": {
        "colab": {
          "base_uri": "https://localhost:8080/"
        },
        "id": "q9qAdWppDRTv",
        "outputId": "48714b3a-0b19-48e4-9ccf-aa1203df288f"
      },
      "execution_count": null,
      "outputs": [
        {
          "output_type": "execute_result",
          "data": {
            "text/plain": [
              "array([ 1.81931000e+06    +0.j        ,  1.96689250e+04 +4267.62614863j,\n",
              "       -8.05149872e+03+47487.38439454j, ...,\n",
              "        2.53283597e+01   +77.82165577j, -3.99232504e+00   -58.46531383j,\n",
              "        2.60000000e+01    +0.j        ])"
            ]
          },
          "metadata": {},
          "execution_count": 19
        }
      ]
    },
    {
      "cell_type": "code",
      "source": [
        "ReX = spec_analysis.real\n",
        "ImX = -spec_analysis.imag"
      ],
      "metadata": {
        "id": "cCAq7YOODV2i"
      },
      "execution_count": null,
      "outputs": []
    },
    {
      "cell_type": "code",
      "source": [
        "ReX"
      ],
      "metadata": {
        "colab": {
          "base_uri": "https://localhost:8080/"
        },
        "id": "kWSuEjAyDZFp",
        "outputId": "0831a663-9a97-4d3e-c64b-aa88dd314caf"
      },
      "execution_count": null,
      "outputs": [
        {
          "output_type": "execute_result",
          "data": {
            "text/plain": [
              "array([ 1.81931000e+06,  1.96689250e+04, -8.05149872e+03, ...,\n",
              "        2.53283597e+01, -3.99232504e+00,  2.60000000e+01])"
            ]
          },
          "metadata": {},
          "execution_count": 21
        }
      ]
    },
    {
      "cell_type": "code",
      "source": [
        "ImX"
      ],
      "metadata": {
        "colab": {
          "base_uri": "https://localhost:8080/"
        },
        "id": "lz0VVepUDd1F",
        "outputId": "e2cfc6cf-4ff2-42da-9b67-e0e505178f80"
      },
      "execution_count": null,
      "outputs": [
        {
          "output_type": "execute_result",
          "data": {
            "text/plain": [
              "array([    -0.        ,  -4267.62614863, -47487.38439454, ...,\n",
              "          -77.82165577,     58.46531383,     -0.        ])"
            ]
          },
          "metadata": {},
          "execution_count": 22
        }
      ]
    },
    {
      "cell_type": "code",
      "source": [
        "MgX = np.sqrt(ReX**2 + ImX**2)"
      ],
      "metadata": {
        "id": "ixWIyv_qDhDA"
      },
      "execution_count": null,
      "outputs": []
    },
    {
      "cell_type": "code",
      "source": [
        "MgX"
      ],
      "metadata": {
        "colab": {
          "base_uri": "https://localhost:8080/"
        },
        "id": "EeD7Efk8Dlf3",
        "outputId": "573a78fb-cbc8-4861-e7b9-5613c9f26ce9"
      },
      "execution_count": null,
      "outputs": [
        {
          "output_type": "execute_result",
          "data": {
            "text/plain": [
              "array([1.81931000e+06, 2.01265806e+04, 4.81651151e+04, ...,\n",
              "       8.18396964e+01, 5.86014640e+01, 2.60000000e+01])"
            ]
          },
          "metadata": {},
          "execution_count": 24
        }
      ]
    },
    {
      "cell_type": "code",
      "source": [],
      "metadata": {
        "id": "o4-1nF6BQMCt"
      },
      "execution_count": null,
      "outputs": []
    },
    {
      "cell_type": "code",
      "source": [
        "plt.plot(MgX)\n",
        "plt.show()"
      ],
      "metadata": {
        "colab": {
          "base_uri": "https://localhost:8080/",
          "height": 276
        },
        "id": "0ETyc6B3DqQH",
        "outputId": "52c4fb0b-4b83-4c00-aab7-d11d7d750bf6"
      },
      "execution_count": null,
      "outputs": [
        {
          "output_type": "display_data",
          "data": {
            "text/plain": [
              "<Figure size 432x288 with 1 Axes>"
            ],
            "image/png": "[encoded data removed]"
          },
          "metadata": {
            "needs_background": "light"
          }
        }
      ]
    },
    {
      "cell_type": "code",
      "source": [],
      "metadata": {
        "id": "kIxAEdt-QMq0"
      },
      "execution_count": null,
      "outputs": []
    },
    {
      "cell_type": "code",
      "source": [
        "freq = np.argmax(MgX)\n",
        "print(f'''The frequency of the tuning fork is:\n",
        "            {(freq * samplerate)/(len(MgX)*2)} Hz''')"
      ],
      "metadata": {
        "colab": {
          "base_uri": "https://localhost:8080/"
        },
        "id": "m-NL_GKjGAl-",
        "outputId": "397dea31-c2ed-4c2c-d554-d0e965d96051"
      },
      "execution_count": null,
      "outputs": [
        {
          "output_type": "stream",
          "name": "stdout",
          "text": [
            "The frequency of the tuning fork is:\n",
            "            447.07426314775574 Hz\n"
          ]
        }
      ]
    },
    {
      "cell_type": "markdown",
      "source": [
        "#**Task 2b**"
      ],
      "metadata": {
        "id": "h0diKj5BLME8"
      }
    },
    {
      "cell_type": "markdown",
      "source": [
        "b. To get a clean spectrum, you can first multiply the time domain signal with a\n",
        "hamming window using the function numpy.hamming. To make the spectrum signal\n",
        "smoother, you can take multiple time-domain signal chunks, then find each of their\n",
        "spectrum and then average them. These tricks can be found in detail in chapter 9."
      ],
      "metadata": {
        "id": "fD6WTMzbOHp_"
      }
    },
    {
      "cell_type": "code",
      "source": [
        "def frequency(data):\n",
        "  spectral_analysis = np.fft.rfft(data)\n",
        "  ReX = spectral_analysis.real\n",
        "  ImX = spectral_analysis.imag\n",
        "  MagX, PhaseX = Rect2Polar(ReX, ImX)\n",
        "  return np.argmax(MagX) * samplerate / (len(MagX) * 2)\n",
        "\n",
        "print(f\"Non-averaged natural frequency: {frequency(data)}\")\n",
        "\n",
        "hamming_window_length = 50\n",
        "hamming = np.hamming(hamming_window_length)\n",
        "smoothed_data = np.convolve(data, hamming)\n",
        "plt.plot(smoothed_data)\n",
        "\n",
        "natural_frequency = 0\n",
        "iterations = 0\n",
        "chunk_range = 100\n",
        "\n",
        "for i in range(0, len(smoothed_data) - chunk_range + 1, chunk_range):\n",
        "  chunk = data[i : i + chunk_range + 1]\n",
        "  natural_frequency += frequency(chunk)\n",
        "  iterations += 1\n",
        "\n",
        "natural_frequency /= iterations\n",
        "print(f\"Averaged natural frequency: {natural_frequency}\")\n"
      ],
      "metadata": {
        "colab": {
          "base_uri": "https://localhost:8080/",
          "height": 300
        },
        "id": "cnbkSZ0SOZEb",
        "outputId": "69a76684-94a6-4e7e-c14a-66f1d26ae38d"
      },
      "execution_count": null,
      "outputs": [
        {
          "output_type": "stream",
          "name": "stdout",
          "text": [
            "Non-averaged natural frequency: 447.07426314775574\n",
            "Averaged natural frequency: 423.7176922809385\n"
          ]
        },
        {
          "output_type": "display_data",
          "data": {
            "text/plain": [
              "<Figure size 432x288 with 1 Axes>"
            ],
            "image/png": "[encoded data removed]"
          },
          "metadata": {
            "needs_background": "light"
          }
        }
      ]
    },
    {
      "cell_type": "code",
      "source": [],
      "metadata": {
        "id": "JIJoDsGeQ2ql"
      },
      "execution_count": null,
      "outputs": []
    },
    {
      "cell_type": "markdown",
      "source": [
        "Taking multiple time-domain signal chunks, finding their individual spectra, and then averaging them can also help to smooth out the frequency domain representation and reduce the impact of noise and other transient effects. This is often referred to as spectral averaging or power spectral density estimation, and it can be particularly useful when analyzing non-stationary signals that change over time"
      ],
      "metadata": {
        "id": "7lm3sh8dIhLE"
      }
    },
    {
      "cell_type": "markdown",
      "source": [
        "#Task 3"
      ],
      "metadata": {
        "id": "Tp9sGeWfQV2N"
      }
    },
    {
      "cell_type": "markdown",
      "source": [
        "\n",
        "As DFT is $O(n^2)$, given the data points size, it does not run fast enough to verify this function.Takes too much time for the myDFT function to execute"
      ],
      "metadata": {
        "id": "_YDOEgZ3QdR_"
      }
    },
    {
      "cell_type": "code",
      "source": [
        " #ReX, ImX = myDFT(data) \n",
        " #MagX, PhaseX = Rect2Polar(MagX, PhaseX)\n",
        " #plt.plot(MagX)\n",
        " #print(f'Natural Frequency: {np.argmax(MagX) * samplerate / (len(MagX) * 2)} Hz')"
      ],
      "metadata": {
        "id": "mffPkM2CQYCu"
      },
      "execution_count": null,
      "outputs": []
    },
    {
      "cell_type": "markdown",
      "source": [
        "#Task 4"
      ],
      "metadata": {
        "id": "YKEe3qi-NcYp"
      }
    },
    {
      "cell_type": "code",
      "source": [
        "import numpy as np\n",
        "import matplotlib.pyplot as plt\n",
        "\n",
        "freq=1\n",
        "amplitude=0.1\n",
        "t=np.linspace(0,5,100)\n",
        "wave=amplitude*np.sin(2*np.pi*freq*t)\n",
        "plt.stem(wave)"
      ],
      "metadata": {
        "colab": {
          "base_uri": "https://localhost:8080/",
          "height": 282
        },
        "id": "Qv7QAdHVNb8B",
        "outputId": "efcaece5-6ab6-444c-b19d-d1c8ff884fd2"
      },
      "execution_count": null,
      "outputs": [
        {
          "output_type": "execute_result",
          "data": {
            "text/plain": [
              "<StemContainer object of 3 artists>"
            ]
          },
          "metadata": {},
          "execution_count": 29
        },
        {
          "output_type": "display_data",
          "data": {
            "text/plain": [
              "<Figure size 432x288 with 1 Axes>"
            ],
            "image/png": "[encoded data removed]"
          },
          "metadata": {
            "needs_background": "light"
          }
        }
      ]
    },
    {
      "cell_type": "code",
      "source": [],
      "metadata": {
        "id": "K4y-qx5RRAhn"
      },
      "execution_count": null,
      "outputs": []
    },
    {
      "cell_type": "markdown",
      "source": [
        "The np.random.uniform() function generates a random signal ."
      ],
      "metadata": {
        "id": "nMbv1uvaMOCT"
      }
    },
    {
      "cell_type": "code",
      "source": [],
      "metadata": {
        "id": "IMThbAu6Q_Oj"
      },
      "execution_count": null,
      "outputs": []
    },
    {
      "cell_type": "code",
      "source": [
        "noise = np.random.uniform(low=-0.05, high=0.05, size=len(wave))\n",
        "plt.stem(noise)"
      ],
      "metadata": {
        "colab": {
          "base_uri": "https://localhost:8080/",
          "height": 282
        },
        "id": "WFbPZEk9QlmN",
        "outputId": "e4eb023a-27e8-4350-845c-49b1e753da13"
      },
      "execution_count": null,
      "outputs": [
        {
          "output_type": "execute_result",
          "data": {
            "text/plain": [
              "<StemContainer object of 3 artists>"
            ]
          },
          "metadata": {},
          "execution_count": 30
        },
        {
          "output_type": "display_data",
          "data": {
            "text/plain": [
              "<Figure size 432x288 with 1 Axes>"
            ],
            "image/png": "[encoded data removed]"
          },
          "metadata": {
            "needs_background": "light"
          }
        }
      ]
    },
    {
      "cell_type": "markdown",
      "source": [
        "We then add the noise to the original signal to get the final noisy signal."
      ],
      "metadata": {
        "id": "Ee9UYPXZMg5H"
      }
    },
    {
      "cell_type": "code",
      "source": [
        "noisy_signal = noise + wave\n",
        "plt.stem(noisy_signal)"
      ],
      "metadata": {
        "colab": {
          "base_uri": "https://localhost:8080/",
          "height": 282
        },
        "id": "6rqNGA5IQrKv",
        "outputId": "185315a4-5068-42ff-d70b-6498a2113159"
      },
      "execution_count": null,
      "outputs": [
        {
          "output_type": "execute_result",
          "data": {
            "text/plain": [
              "<StemContainer object of 3 artists>"
            ]
          },
          "metadata": {},
          "execution_count": 31
        },
        {
          "output_type": "display_data",
          "data": {
            "text/plain": [
              "<Figure size 432x288 with 1 Axes>"
            ],
            "image/png": "[encoded data removed]"
          },
          "metadata": {
            "needs_background": "light"
          }
        }
      ]
    },
    {
      "cell_type": "markdown",
      "source": [
        "We're also generating a moving average filter by creating an array of length 15 and then dividing the array by the filter length to get the average value.\n",
        "\n",
        "We're then convolving the filter with the noisy signal using np.convolve"
      ],
      "metadata": {
        "id": "xo7r8eJ8NjUm"
      }
    },
    {
      "cell_type": "code",
      "source": [
        "averaging_filter = [1/15] * 15\n",
        "filtered_output = np.convolve(noisy_signal, averaging_filter)\n",
        "\n",
        "plt.stem(filtered_output)"
      ],
      "metadata": {
        "colab": {
          "base_uri": "https://localhost:8080/",
          "height": 282
        },
        "id": "giZECnf6Qu1w",
        "outputId": "48140b11-6467-49c2-e487-1e5487050141"
      },
      "execution_count": null,
      "outputs": [
        {
          "output_type": "execute_result",
          "data": {
            "text/plain": [
              "<StemContainer object of 3 artists>"
            ]
          },
          "metadata": {},
          "execution_count": 32
        },
        {
          "output_type": "display_data",
          "data": {
            "text/plain": [
              "<Figure size 432x288 with 1 Axes>"
            ],
            "image/png": "[encoded data removed]"
          },
          "metadata": {
            "needs_background": "light"
          }
        }
      ]
    },
    {
      "cell_type": "code",
      "source": [
        "def OutputSideConvolution(S, H):\n",
        "    output = np.zeros(len(S) + len(H) - 1)\n",
        "    for i in range(0, len(output)):\n",
        "        for j in reversed(range(len(H))):\n",
        "            if i-j>=0 and i-j<len(S):\n",
        "                output[i] += (S[i - j] * H[j])\n",
        "    return output"
      ],
      "metadata": {
        "id": "mzhuyE5RQyTl"
      },
      "execution_count": null,
      "outputs": []
    },
    {
      "cell_type": "markdown",
      "source": [
        " the filtered signals using both np.convolve and the custom convolution function are very similar, and effectively remove most of the noise from the original signal."
      ],
      "metadata": {
        "id": "E-b2UfwgPiym"
      }
    },
    {
      "cell_type": "code",
      "source": [
        "custom_filtered_output = OutputSideConvolution(noisy_signal, averaging_filter)\n",
        "plt.stem(custom_filtered_output)"
      ],
      "metadata": {
        "id": "at5e9kn5Q1Q2",
        "outputId": "32604a1f-923e-40e6-b75b-888b0765b4d8",
        "colab": {
          "base_uri": "https://localhost:8080/",
          "height": 282
        }
      },
      "execution_count": null,
      "outputs": [
        {
          "output_type": "execute_result",
          "data": {
            "text/plain": [
              "<StemContainer object of 3 artists>"
            ]
          },
          "metadata": {},
          "execution_count": 34
        },
        {
          "output_type": "display_data",
          "data": {
            "text/plain": [
              "<Figure size 432x288 with 1 Axes>"
            ],
            "image/png": "[encoded data removed]"
          },
          "metadata": {
            "needs_background": "light"
          }
        }
      ]
    }
  ]
}