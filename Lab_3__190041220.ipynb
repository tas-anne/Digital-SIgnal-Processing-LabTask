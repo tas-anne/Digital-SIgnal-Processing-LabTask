{
  "nbformat": 4,
  "nbformat_minor": 0,
  "metadata": {
    "colab": {
      "provenance": [],
      "authorship_tag": "ABX9TyPmbwTl3bs/tBF9Ua3RUFst",
      "include_colab_link": true
    },
    "kernelspec": {
      "name": "python3",
      "display_name": "Python 3"
    },
    "language_info": {
      "name": "python"
    }
  },
  "cells": [
    {
      "cell_type": "markdown",
      "metadata": {
        "id": "view-in-github",
        "colab_type": "text"
      },
      "source": [
        "<a href=\"https://colab.research.google.com/github/tas-anne/Digital-SIgnal-Processing-LabTask/blob/main/Lab_3__190041220.ipynb\" target=\"_parent\"><img src=\"https://colab.research.google.com/assets/colab-badge.svg\" alt=\"Open In Colab\"/></a>"
      ]
    },
    {
      "cell_type": "markdown",
      "source": [
        "## Course Code: CSE 4632\n",
        "## Course Name: Digital Signal Processing Lab\n",
        "## Name: Tasfia Tasneem Annesha\n",
        "## ID: **190041220** "
      ],
      "metadata": {
        "id": "ugYnA1ZSmhDi"
      }
    },
    {
      "cell_type": "code",
      "execution_count": null,
      "metadata": {
        "id": "YKyS8DJTk70O"
      },
      "outputs": [],
      "source": [
        "import numpy as np\n",
        "import matplotlib.pyplot as plt"
      ]
    },
    {
      "cell_type": "code",
      "source": [
        "S = [1, 9, 0, 0, 4, 1, 2, 2, 0]\n",
        "H = [2, 0, 2, 1]"
      ],
      "metadata": {
        "id": "OBPHrY78nM23"
      },
      "execution_count": null,
      "outputs": []
    },
    {
      "cell_type": "markdown",
      "source": [
        "# **Task 1**\n",
        " *Use the built-in np.convolve function to convolve S with H. (Use ‘same’ for\n",
        "padding). Plot the output signal along with the original input signal and impulse\n",
        "response.* \n",
        "\n",
        "This task uses the np.convolve() function in order to perform a convolution operation between the given signal S and an impulse response\n",
        "H. \"Full\" padding was used in order to match the output with the later tasks. The input and output signals were plotted in this task as well.\n",
        "\n",
        "---\n",
        "\n"
      ],
      "metadata": {
        "id": "KX2ElHZYnZT-"
      }
    },
    {
      "cell_type": "code",
      "source": [
        "conv = np.convolve(S, H, 'full')\n",
        "conv"
      ],
      "metadata": {
        "colab": {
          "base_uri": "https://localhost:8080/"
        },
        "id": "CHGa9unsnefp",
        "outputId": "b9fa3f28-d5e7-41b6-8499-d947a2040e9e"
      },
      "execution_count": null,
      "outputs": [
        {
          "output_type": "execute_result",
          "data": {
            "text/plain": [
              "array([ 2, 18,  2, 19, 17,  2, 12, 10,  5,  6,  2,  0])"
            ]
          },
          "metadata": {},
          "execution_count": 3
        }
      ]
    },
    {
      "cell_type": "code",
      "source": [
        "n = np.arange(0, len(conv), 1)\n",
        "plt.stem(n, conv, label='Output')\n",
        "plt.title('Output')\n",
        "plt.show()\n",
        "plt.stem(np.arange(0, len(S), 1), S, label='Input')\n",
        "plt.title('Input')\n",
        "plt.show()\n",
        "plt.stem(np.arange(0, len(H), 1), H, label='Impulse')\n",
        "plt.title('Impulse Response')\n",
        "plt.show()"
      ],
      "metadata": {
        "colab": {
          "base_uri": "https://localhost:8080/",
          "height": 933
        },
        "id": "RXCcjAkCnt9g",
        "outputId": "94dda809-77a8-4a93-9992-d5bc22cc6a79"
      },
      "execution_count": null,
      "outputs": [
        {
          "output_type": "stream",
          "name": "stderr",
          "text": [
            "<ipython-input-4-c0afdade1588>:2: UserWarning: In Matplotlib 3.3 individual lines on a stem plot will be added as a LineCollection instead of individual lines. This significantly improves the performance of a stem plot. To remove this warning and switch to the new behaviour, set the \"use_line_collection\" keyword argument to True.\n",
            "  plt.stem(n, conv, label='Output')\n"
          ]
        },
        {
          "output_type": "display_data",
          "data": {
            "text/plain": [
              "<Figure size 432x288 with 1 Axes>"
            ],
            "image/png": "[encoded data removed]"
          },
          "metadata": {
            "needs_background": "light"
          }
        },
        {
          "output_type": "stream",
          "name": "stderr",
          "text": [
            "<ipython-input-4-c0afdade1588>:5: UserWarning: In Matplotlib 3.3 individual lines on a stem plot will be added as a LineCollection instead of individual lines. This significantly improves the performance of a stem plot. To remove this warning and switch to the new behaviour, set the \"use_line_collection\" keyword argument to True.\n",
            "  plt.stem(np.arange(0, len(S), 1), S, label='Input')\n"
          ]
        },
        {
          "output_type": "display_data",
          "data": {
            "text/plain": [
              "<Figure size 432x288 with 1 Axes>"
            ],
            "image/png": "[encoded data removed]"
          },
          "metadata": {
            "needs_background": "light"
          }
        },
        {
          "output_type": "stream",
          "name": "stderr",
          "text": [
            "<ipython-input-4-c0afdade1588>:8: UserWarning: In Matplotlib 3.3 individual lines on a stem plot will be added as a LineCollection instead of individual lines. This significantly improves the performance of a stem plot. To remove this warning and switch to the new behaviour, set the \"use_line_collection\" keyword argument to True.\n",
            "  plt.stem(np.arange(0, len(H), 1), H, label='Impulse')\n"
          ]
        },
        {
          "output_type": "display_data",
          "data": {
            "text/plain": [
              "<Figure size 432x288 with 1 Axes>"
            ],
            "image/png": "[encoded data removed]"
          },
          "metadata": {
            "needs_background": "light"
          }
        }
      ]
    },
    {
      "cell_type": "code",
      "source": [],
      "metadata": {
        "id": "QBKEJrYwuZYG"
      },
      "execution_count": null,
      "outputs": []
    },
    {
      "cell_type": "markdown",
      "source": [
        "# **Task 2**\n",
        "*Write a custom function InputSideConvolution that implements convolution\n",
        "using the Input Side Algorithm.*\n",
        "\n",
        "The input side algorithm to determine the result of convolution between S and H. If n_S and n_H is\n",
        "the length of the array of the signal and the impulse response respectively, then the length of the result will be (n_S + n_H - 1). The outer\n",
        "loop FOR loops over all the elements of the signal S. The inner FOR loops over all the elements of the impulse response H. The inner loop\n",
        "calculates a scaled and shifted version of the impulse response and adds it to the ouput[] array which is an accumulation of all the impulse\n",
        "responses for that particular input element i. The shitfing is done by placing the accumulated response in the (i + j)th location of the output\n",
        "array. This nested for loop implements the input side algorithm.\n",
        "\n",
        "---\n",
        "\n"
      ],
      "metadata": {
        "id": "H_44h6H9oUGG"
      }
    },
    {
      "cell_type": "code",
      "source": [
        "def InputSideAlgorithm(inp, impulse):\n",
        "    output = np.zeros(len(inp) + len(impulse) - 1)\n",
        "    for i in range(0, len(inp)):\n",
        "        for j in range(0, len(impulse)):\n",
        "            output[i+j] = output[i+j] + (inp[i] * impulse[j])\n",
        "            \n",
        "    return output"
      ],
      "metadata": {
        "id": "XlMLjIFWop7Q"
      },
      "execution_count": null,
      "outputs": []
    },
    {
      "cell_type": "code",
      "source": [
        "InputSideAlgorithm(S, H)"
      ],
      "metadata": {
        "colab": {
          "base_uri": "https://localhost:8080/"
        },
        "id": "7Q589ZTkrIzS",
        "outputId": "5b1af10d-bb9c-4f19-9c25-bc702c065bfd"
      },
      "execution_count": null,
      "outputs": [
        {
          "output_type": "execute_result",
          "data": {
            "text/plain": [
              "array([ 2., 18.,  2., 19., 17.,  2., 12., 10.,  5.,  6.,  2.,  0.])"
            ]
          },
          "metadata": {},
          "execution_count": 6
        }
      ]
    },
    {
      "cell_type": "code",
      "source": [],
      "metadata": {
        "id": "5ZdVb7nSubru"
      },
      "execution_count": null,
      "outputs": []
    },
    {
      "cell_type": "markdown",
      "source": [
        "## **Task 3**\n",
        " *Write another function OutputSideConvolution that uses the Output Side\n",
        "Algorithm*\n",
        "\n",
        "The following is an implementation of the output side algorithm. In the input side algortihm that was implemented in the previous task, we had looped over the input signal and created the output through shifting and scaling the impulses. But in the output side algortihm we loop over the output array and fill it. We know that the output side algortihm basically flips the impulse response and then performs a cumulative sum of the product between the response and the inputs. This is being done here in the inner FOR loop. We avoid out-of-bound errors by placing a simple if condition."
      ],
      "metadata": {
        "id": "Nv10tmkNrN5t"
      }
    },
    {
      "cell_type": "code",
      "source": [
        "def OutputSideAlgorithm(inp, impulse):\n",
        "    output = np.zeros(len(inp) + len(impulse) - 1)\n",
        "    for i in range(0, len(output)):\n",
        "        for j in range(0, len(impulse)):\n",
        "            if i-j>=0 and i-j<len(inp):\n",
        "                output[i] = output[i] + (inp[i-j] * impulse[j])\n",
        "    return output"
      ],
      "metadata": {
        "id": "uIkDJvN5rfLv"
      },
      "execution_count": null,
      "outputs": []
    },
    {
      "cell_type": "code",
      "source": [
        "OutputSideAlgorithm(S, H)"
      ],
      "metadata": {
        "colab": {
          "base_uri": "https://localhost:8080/"
        },
        "id": "DR37wN7Arg4f",
        "outputId": "80095cda-5dc2-45cc-e3a7-ad46ff5f3109"
      },
      "execution_count": null,
      "outputs": [
        {
          "output_type": "execute_result",
          "data": {
            "text/plain": [
              "array([ 2., 18.,  2., 19., 17.,  2., 12., 10.,  5.,  6.,  2.,  0.])"
            ]
          },
          "metadata": {},
          "execution_count": 8
        }
      ]
    },
    {
      "cell_type": "markdown",
      "source": [
        "## **Task 4**\n",
        "*Does all three produce the same result?*\n",
        "\n",
        "This task shows that the input and output side algorithms have been implemented correctly.\n",
        "\n",
        "---\n",
        "\n"
      ],
      "metadata": {
        "id": "JvBz8UQKrp57"
      }
    },
    {
      "cell_type": "code",
      "source": [
        "print(f'Using np.convolve: {np.convolve(S, H, \"full\")}')\n",
        "print(f'Using input side algo: {InputSideAlgorithm(S, H)}')\n",
        "print(f'Using output side algo: {OutputSideAlgorithm(S, H)}')"
      ],
      "metadata": {
        "colab": {
          "base_uri": "https://localhost:8080/"
        },
        "id": "qLMVdiN0rpGL",
        "outputId": "79526928-dcf2-4d45-8998-b8986b4de536"
      },
      "execution_count": null,
      "outputs": [
        {
          "output_type": "stream",
          "name": "stdout",
          "text": [
            "Using np.convolve: [ 2 18  2 19 17  2 12 10  5  6  2  0]\n",
            "Using input side algo: [ 2. 18.  2. 19. 17.  2. 12. 10.  5.  6.  2.  0.]\n",
            "Using output side algo: [ 2. 18.  2. 19. 17.  2. 12. 10.  5.  6.  2.  0.]\n"
          ]
        }
      ]
    },
    {
      "cell_type": "markdown",
      "source": [
        "## **Task 5**\n",
        "*First create the signal wave_plus_ramp as shown in the given figures.*\n",
        "\n",
        "In this task at first we create a wave_plus_ramp signal as instructed in the task. We then create a low pass filter kernel with 20 non-zero samples. We then convolve it with the wave_plus_ramp signal. In the output we see that the ramp was retained and the wave was discarded. This is because the low-pass filter kernel retains the low frequency components from the signal hence giving us the output of only the ramp.\n",
        "\n",
        "---\n",
        "\n"
      ],
      "metadata": {
        "id": "hyMT1Cg8sAlv"
      }
    },
    {
      "cell_type": "code",
      "source": [],
      "metadata": {
        "id": "3w2FzmZ8udWr"
      },
      "execution_count": null,
      "outputs": []
    },
    {
      "cell_type": "code",
      "source": [
        "freq = 1\n",
        "amplitude = 0.1\n",
        "t = np.linspace(0, 5, 100)\n",
        "wave = amplitude * np.sin(2 * np.pi * freq * t)\n",
        "\n",
        "plt.stem(wave)"
      ],
      "metadata": {
        "colab": {
          "base_uri": "https://localhost:8080/",
          "height": 337
        },
        "id": "XoP5RDCqr74p",
        "outputId": "c5d8c94b-392b-4eff-87c7-c8456339d7df"
      },
      "execution_count": null,
      "outputs": [
        {
          "output_type": "stream",
          "name": "stderr",
          "text": [
            "<ipython-input-10-41cff08ed5d3>:6: UserWarning: In Matplotlib 3.3 individual lines on a stem plot will be added as a LineCollection instead of individual lines. This significantly improves the performance of a stem plot. To remove this warning and switch to the new behaviour, set the \"use_line_collection\" keyword argument to True.\n",
            "  plt.stem(wave)\n"
          ]
        },
        {
          "output_type": "execute_result",
          "data": {
            "text/plain": [
              "<StemContainer object of 3 artists>"
            ]
          },
          "metadata": {},
          "execution_count": 10
        },
        {
          "output_type": "display_data",
          "data": {
            "text/plain": [
              "<Figure size 432x288 with 1 Axes>"
            ],
            "image/png": "[encoded data removed]"
          },
          "metadata": {
            "needs_background": "light"
          }
        }
      ]
    },
    {
      "cell_type": "code",
      "source": [],
      "metadata": {
        "id": "4OfgnDReueMk"
      },
      "execution_count": null,
      "outputs": []
    },
    {
      "cell_type": "code",
      "source": [],
      "metadata": {
        "id": "RrQY5DfqsVmz"
      },
      "execution_count": null,
      "outputs": []
    },
    {
      "cell_type": "code",
      "source": [
        "ramp = 0.05*t - 0.1\n",
        "plt.stem(ramp)"
      ],
      "metadata": {
        "colab": {
          "base_uri": "https://localhost:8080/",
          "height": 337
        },
        "id": "0aB83zfUsTxX",
        "outputId": "a7d58d27-b7ad-461f-9e7e-a6cd4d2d2bfd"
      },
      "execution_count": null,
      "outputs": [
        {
          "output_type": "stream",
          "name": "stderr",
          "text": [
            "<ipython-input-11-98ab68055f73>:2: UserWarning: In Matplotlib 3.3 individual lines on a stem plot will be added as a LineCollection instead of individual lines. This significantly improves the performance of a stem plot. To remove this warning and switch to the new behaviour, set the \"use_line_collection\" keyword argument to True.\n",
            "  plt.stem(ramp)\n"
          ]
        },
        {
          "output_type": "execute_result",
          "data": {
            "text/plain": [
              "<StemContainer object of 3 artists>"
            ]
          },
          "metadata": {},
          "execution_count": 11
        },
        {
          "output_type": "display_data",
          "data": {
            "text/plain": [
              "<Figure size 432x288 with 1 Axes>"
            ],
            "image/png": "[encoded data removed]"
          },
          "metadata": {
            "needs_background": "light"
          }
        }
      ]
    },
    {
      "cell_type": "code",
      "source": [
        "wave_plus_ramp = wave + ramp\n",
        "plt.stem(wave_plus_ramp)"
      ],
      "metadata": {
        "colab": {
          "base_uri": "https://localhost:8080/",
          "height": 337
        },
        "id": "VdiinEjCscgm",
        "outputId": "3c2a5f5b-3935-41f1-c87e-6b7e1e580b90"
      },
      "execution_count": null,
      "outputs": [
        {
          "output_type": "stream",
          "name": "stderr",
          "text": [
            "<ipython-input-12-ec6c6d5c40fd>:2: UserWarning: In Matplotlib 3.3 individual lines on a stem plot will be added as a LineCollection instead of individual lines. This significantly improves the performance of a stem plot. To remove this warning and switch to the new behaviour, set the \"use_line_collection\" keyword argument to True.\n",
            "  plt.stem(wave_plus_ramp)\n"
          ]
        },
        {
          "output_type": "execute_result",
          "data": {
            "text/plain": [
              "<StemContainer object of 3 artists>"
            ]
          },
          "metadata": {},
          "execution_count": 12
        },
        {
          "output_type": "display_data",
          "data": {
            "text/plain": [
              "<Figure size 432x288 with 1 Axes>"
            ],
            "image/png": "[encoded data removed]"
          },
          "metadata": {
            "needs_background": "light"
          }
        }
      ]
    },
    {
      "cell_type": "code",
      "source": [],
      "metadata": {
        "id": "6NvkXrWWuf1Y"
      },
      "execution_count": null,
      "outputs": []
    },
    {
      "cell_type": "code",
      "source": [],
      "metadata": {
        "id": "VvGMR7muufp3"
      },
      "execution_count": null,
      "outputs": []
    },
    {
      "cell_type": "code",
      "source": [
        "def low_pass_filter(inp, filter_size):\n",
        "    low_pass_kernel = [1/filter_size] * filter_size\n",
        "    output = np.convolve(inp, low_pass_kernel, 'valid')\n",
        "    return output"
      ],
      "metadata": {
        "id": "7rd1o-LJsh9b"
      },
      "execution_count": null,
      "outputs": []
    },
    {
      "cell_type": "code",
      "source": [
        "output = low_pass_filter(wave_plus_ramp, 20)\n",
        "plt.stem(output)"
      ],
      "metadata": {
        "colab": {
          "base_uri": "https://localhost:8080/",
          "height": 337
        },
        "id": "-fqin1xxskVV",
        "outputId": "4b92c9b1-ef96-4116-aa69-65d3212b6ecf"
      },
      "execution_count": null,
      "outputs": [
        {
          "output_type": "stream",
          "name": "stderr",
          "text": [
            "<ipython-input-14-4297aaf5613d>:2: UserWarning: In Matplotlib 3.3 individual lines on a stem plot will be added as a LineCollection instead of individual lines. This significantly improves the performance of a stem plot. To remove this warning and switch to the new behaviour, set the \"use_line_collection\" keyword argument to True.\n",
            "  plt.stem(output)\n"
          ]
        },
        {
          "output_type": "execute_result",
          "data": {
            "text/plain": [
              "<StemContainer object of 3 artists>"
            ]
          },
          "metadata": {},
          "execution_count": 14
        },
        {
          "output_type": "display_data",
          "data": {
            "text/plain": [
              "<Figure size 432x288 with 1 Axes>"
            ],
            "image/png": "[encoded data removed]"
          },
          "metadata": {
            "needs_background": "light"
          }
        }
      ]
    },
    {
      "cell_type": "code",
      "source": [],
      "metadata": {
        "id": "eQMpWYsBug-d"
      },
      "execution_count": null,
      "outputs": []
    },
    {
      "cell_type": "code",
      "source": [],
      "metadata": {
        "id": "jGvu0dWQug2z"
      },
      "execution_count": null,
      "outputs": []
    },
    {
      "cell_type": "markdown",
      "source": [
        "## **Task 6**\n",
        "\n",
        "*Now, take the low_pass_filter kernel and change every sample’s sign. Now add\n",
        "1 to the sample in the middle of the kernel. This will produce a high_pass filter.\n",
        "Now convolve wave_plus_ramp with high_pass filter kernel using np.convolve.\n",
        "(Use ‘valid’ for padding)\n",
        "This will discard the ramp and retain the wave. Can you tell why?*\n",
        "\n",
        "This task is quite similar to the previous one. Here, at first, we implement the high pass filter kernel as intructed in the task. Convolving this kernel with the input signal gives us only the wave and will discard the ramp. This is because the high pass filter retains the high frequency components and discards the low frequency ones. As a result we get the signal back.\n",
        "\n",
        "---\n",
        "\n"
      ],
      "metadata": {
        "id": "GmUnVYMKswP9"
      }
    },
    {
      "cell_type": "code",
      "source": [
        "def high_pass_filter(inp, filter_size):\n",
        "    high_pass_kernel = [-1/filter_size] * filter_size\n",
        "    high_pass_kernel[0] = 1 - high_pass_kernel[0]\n",
        "    output = np.convolve(inp, high_pass_kernel, 'valid')\n",
        "    return output"
      ],
      "metadata": {
        "id": "cUTLs9qEtEyC"
      },
      "execution_count": null,
      "outputs": []
    },
    {
      "cell_type": "code",
      "source": [
        "output = high_pass_filter(wave_plus_ramp, 15)\n",
        "plt.stem(output)"
      ],
      "metadata": {
        "colab": {
          "base_uri": "https://localhost:8080/",
          "height": 337
        },
        "id": "D_QnlnhatLs_",
        "outputId": "b8b9f8e1-2954-438f-c292-1c1440e513c8"
      },
      "execution_count": null,
      "outputs": [
        {
          "output_type": "stream",
          "name": "stderr",
          "text": [
            "<ipython-input-16-c353d19457a4>:2: UserWarning: In Matplotlib 3.3 individual lines on a stem plot will be added as a LineCollection instead of individual lines. This significantly improves the performance of a stem plot. To remove this warning and switch to the new behaviour, set the \"use_line_collection\" keyword argument to True.\n",
            "  plt.stem(output)\n"
          ]
        },
        {
          "output_type": "execute_result",
          "data": {
            "text/plain": [
              "<StemContainer object of 3 artists>"
            ]
          },
          "metadata": {},
          "execution_count": 16
        },
        {
          "output_type": "display_data",
          "data": {
            "text/plain": [
              "<Figure size 432x288 with 1 Axes>"
            ],
            "image/png": "[encoded data removed]"
          },
          "metadata": {
            "needs_background": "light"
          }
        }
      ]
    }
  ]
}